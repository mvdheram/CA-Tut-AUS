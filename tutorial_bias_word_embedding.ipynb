{
  "nbformat": 4,
  "nbformat_minor": 0,
  "metadata": {
    "kernelspec": {
      "display_name": "Python 3",
      "language": "python",
      "name": "python3"
    },
    "colab": {
      "name": "tutorial-bias-word-embedding.ipynb",
      "provenance": [],
      "include_colab_link": true
    }
  },
  "cells": [
    {
      "cell_type": "markdown",
      "metadata": {
        "id": "view-in-github",
        "colab_type": "text"
      },
      "source": [
        "<a href=\"https://colab.research.google.com/github/mvdheram/CA-Tut-AUS/blob/master/tutorial_bias_word_embedding.ipynb\" target=\"_parent\"><img src=\"https://colab.research.google.com/assets/colab-badge.svg\" alt=\"Open In Colab\"/></a>"
      ]
    },
    {
      "cell_type": "markdown",
      "metadata": {
        "id": "f0-MDNO6fx8C"
      },
      "source": [
        "# Workshop // Exploring Gender Bias in Word Embedding\n",
        "\n",
        "## https://learn.responsibly.ai/word-embedding\n",
        "\n",
        "Powerd by [`responsibly`](https://docs.responsibly.ai/) - Toolkit for auditing and mitigating bias and fairness of machine learning systems 🔎🤖🧰\n",
        "\n",
        "![](https://github.com/ResponsiblyAI/word-embedding/blob/master/images/banner.png?raw=1)\n",
        "\n",
        "# Overview\n",
        "\n",
        "## Learning Objective:\n",
        "\n",
        "1. Gain intuitive technical understanding of bias in machine learning systems.\n",
        "\n",
        "2. Explore the interplay between data, algorithms, application, workflow and human context.\n",
        "\n",
        "## Audiance\n",
        "Everyone, really. No previous knowledge is assumed. If you do have background, then you will be able to see the topic in a deeper way throguh thw workshop.\n",
        "\n",
        "\n",
        "## Mothod\n",
        "\n",
        "1. Dive into one family of machine learning models/building-block as a scaffolder.\n",
        "\n",
        "2. Focus on one example of bias: by gender.\n",
        "\n",
        "## Disclaimers\n",
        "\n",
        "1. Word embeddings are not very important by themselves in the context of responsible AI, but bias can be demonstrated with them in an intuitiive way.\n",
        "\n",
        "2. We focus on gender bias, and treate it as binary for the simplicity in this work. Neverthless, gender is a complex soical construct and we should keep it in mind when we go back from learning context to the real-world.\n",
        "\n",
        "2. We don't aim to give a comprehensive overview of neither bias in machine learning nor fairness nor responsible AI.\n",
        "\n",
        "3. If you need to work on one of these topics, this workshop is far from being enough, but it can serve as a starting point for your learning.\n",
        "\n",
        "4. On top of that, it is an active area of research.\n",
        "\n",
        "5. And there is much more to say about this topic, especially from Science and technology studies (STS) point of view (but not only).\n",
        "\n",
        "5. Therfore we will supply good learning resources at end.\n",
        "\n",
        "![](https://github.com/ResponsiblyAI/word-embedding/blob/master/images/banner.png?raw=1)\n",
        "\n",
        "\n",
        "## Legend\n",
        "💎 Important\n",
        "\n",
        "⚡ Be Aware - Debated issue / interpret carefully / simplicity over precision\n",
        "\n",
        "🛠️ Setup/Technical (a.k.a \"the code is not important, just run it!\")\n",
        "\n",
        "🧪 Methodological Issue\n",
        "\n",
        "💻 Hands-On - Your turn! NO programming background\n",
        "\n",
        "⌨️ ... Some programming background (in Python) is required\n",
        "\n",
        "🦄 Out of Scope\n",
        "\n",
        "![](https://github.com/ResponsiblyAI/word-embedding/blob/master/images/banner.png?raw=1)"
      ]
    },
    {
      "cell_type": "markdown",
      "metadata": {
        "id": "HY6lOwACfx8K"
      },
      "source": [
        "# Part One: Setup"
      ]
    },
    {
      "cell_type": "markdown",
      "metadata": {
        "id": "Tuzite9sfx8Q"
      },
      "source": [
        "## 1.1 - 🛠️ Install `responsibly`"
      ]
    },
    {
      "cell_type": "code",
      "metadata": {
        "id": "UEVjVutVfx8c"
      },
      "source": [
        "!pip install --user responsibly"
      ],
      "execution_count": null,
      "outputs": []
    },
    {
      "cell_type": "markdown",
      "metadata": {
        "id": "ven94h8Dfx8-"
      },
      "source": [
        "## 1.2 - 🛠️ Validate Installation of `responsibly`"
      ]
    },
    {
      "cell_type": "code",
      "metadata": {
        "id": "7dcAB4OFfx9A"
      },
      "source": [
        "import responsibly\n",
        "\n",
        "# You should get '0.1.2'\n",
        "responsibly.__version__"
      ],
      "execution_count": null,
      "outputs": []
    },
    {
      "cell_type": "markdown",
      "metadata": {
        "id": "JO34C_v8fx9m"
      },
      "source": [
        "---\n",
        "\n",
        "# ⚠️\n",
        "\n",
        "\n",
        "If you get an error of **`ModuleNotFoundError: No module named 'responsibly'`** after the installation, and you work on either **Colab** or **Binder** - this is **normal**.\n",
        "<br/> <br/>\n",
        "**Restart** the Kernel/Runtime (use the menu on top or the botton in the notebook), **skip** the installation cell (`!pip install --user responsibly`) and **run** the previous cell again (`import responsibly`).\n",
        "\n",
        "###  Now it should all work fine!\n",
        "\n",
        "![](https://github.com/ResponsiblyAI/word-embedding/blob/master/images/banner.png?raw=1)"
      ]
    },
    {
      "cell_type": "markdown",
      "metadata": {
        "id": "cKBPVqHnfx9t"
      },
      "source": [
        "# Part Two: Examples of Bias in Language Technology\n",
        "\n",
        "## 2.1 - Translation\n",
        "\n",
        "![](https://github.com/ResponsiblyAI/word-embedding/blob/master/images/example-translate.jpg?raw=1)\n",
        "\n",
        "Source: [Google Blog](https://www.blog.google/products/translate/reducing-gender-bias-google-translate/), [Google AI Blog](https://ai.googleblog.com/2018/12/providing-gender-specific-translations.html)\n",
        "\n",
        "## 2.2 - Automated Speech Recognition (ASR) \n",
        "\n",
        "![](https://github.com/ResponsiblyAI/word-embedding/blob/master/images/asr-wer.jpg?raw=1)\n",
        "\n",
        "WER = Average Word Error Rate\n",
        "\n",
        "`(substitutions + deletions + insertions) / total number of words`\n",
        "\n",
        "Koenecke, Allison, Andrew Nam, Emily Lake, Joe Nudell, Minnie Quartey, Zion Mengesha, Connor Toups, John R. Rickford, Dan Jurafsky, and Sharad Goel. \"[Racial disparities in automated speech recognition](https://www.pnas.org/content/117/14/7684).\" Proceedings of the National Academy of Sciences 117, no. 14 (2020): 7684-7689.\n",
        "\n",
        "[Stanford News](https://news.stanford.edu/2020/03/23/automated-speech-recognition-less-accurate-blacks/)\n",
        "\n",
        "## 2.3 - Recruiting tool\n",
        "\n",
        "\"Amazon scraps secret AI recruiting tool that showed bias against women\" ([Reuters](https://www.reuters.com/article/us-amazon-com-jobs-automation-insight/amazon-scraps-secret-ai-recruiting-tool-that-showed-bias-against-women-idUSKCN1MK08G))\n",
        "\n",
        "\"But by 2015, the company realized its new system was not rating candidates for software developer jobs and other technical posts in a gender-neutral way.\"\n",
        "\n",
        "![](https://github.com/ResponsiblyAI/word-embedding/blob/master/images/banner.png?raw=1)\n",
        "\n",
        "## 2.4 - Natural Language Generation  (based on language models)\n",
        "\n",
        "[Write With Transformer](https://transformer.huggingface.co/doc/gpt2-large) (OpenAI GPT-2)\n",
        "\n",
        "![](https://github.com/ResponsiblyAI/word-embedding/blob/master/images/nlg-prompt.png?raw=1)\n",
        "\n",
        "1. Sheng, E., Chang, K. W., Natarajan, P., & Peng, N. (2019). [The woman worked as a babysitter: On biases in language generation](https://arxiv.org/pdf/1909.01326.pdf). arXiv preprint arXiv:1909.01326.\n",
        "2. [StereoSet](https://stereoset.mit.edu/)\n",
        "Nadeem, M., Bethke, A., & Reddy, S. (2020). [StereoSet: Measuring stereotypical bias in pretrained language models](https://arxiv.org/pdf/2004.09456.pdf). arXiv preprint arXiv:2004.09456."
      ]
    },
    {
      "cell_type": "markdown",
      "metadata": {
        "id": "wQz_DzMrfx9u"
      },
      "source": [
        "# Part Three: Motivation - Why to use Word Embeddings?\n",
        "\n",
        "## 3.1 - [NLP (Natural Language Processing)](https://en.wikipedia.org/wiki/Natural_language_processing)\n",
        "**Very partial** list of tasks\n",
        "\n",
        "\n",
        "### 1. Classification\n",
        "- Fake news classification\n",
        "- Toxic comment classification\n",
        "- Review raiting (sentiment analysis)\n",
        "- Hiring decision making by CV\n",
        "- Automated essay scoring\n",
        "\n",
        "### 3. Machine Translation\n",
        "\n",
        "### 2. Information Retrieval\n",
        "- Search engine\n",
        "- Plagiarism detection\n",
        "\n",
        "### 3. Conversation chatbot\n",
        "\n",
        "### 4. Coreference Resolution\n",
        "![](https://github.com/ResponsiblyAI/word-embedding/blob/master/images/corefexample.png?raw=1)\n",
        "<small>Source: [Stanford Natural Language Processing Group](https://nlp.stanford.edu/projects/coref.shtml)</small>\n",
        "\n",
        "<br><br><br><br>\n",
        "\n",
        "## 3.2 - Machine Learning (NLP) Pipeline\n",
        "<br>\n",
        "<div style=\"border: 1px solid; padding: 50px; margin: 10px\">\n",
        " <h2>\n",
        " \n",
        "Data → Representation → (Structured) Inference → Prediction   \n",
        "\n",
        "&nbsp;&nbsp;&nbsp;&nbsp;&nbsp;&nbsp;&nbsp;&nbsp;&nbsp;&nbsp;&nbsp;&nbsp;&nbsp;&nbsp;&nbsp;&nbsp;&nbsp;&nbsp;&nbsp;&nbsp;&nbsp;&nbsp;&nbsp;&nbsp;&nbsp;&nbsp;↑\n",
        "\n",
        "&nbsp;&nbsp;&nbsp;&nbsp;&nbsp;&nbsp;&nbsp;&nbsp;Auxiliary Corpus/Model\n",
        " </h2>\n",
        "</div>\n",
        "<br>\n",
        "\n",
        "<small>Source: [Kai-Wei Chang (UCLA) - What It Takes to Control Societal Bias in Natural Language Processing](https://www.youtube.com/watch?v=RgcXD_1Cu18)</small>\n",
        "\n",
        "![](https://github.com/ResponsiblyAI/word-embedding/blob/master/images/banner.png?raw=1)"
      ]
    },
    {
      "cell_type": "markdown",
      "metadata": {
        "id": "O8F12ChMfx90"
      },
      "source": [
        "### 3.3 - Esessional Question - How to represent language to machine?\n",
        "\n",
        "We need some kind of *dictionary* 📖 to transform/encode\n",
        "... from a human representation (words) 🗣 🔡\n",
        "... to a machine representation (numbers) 🤖 🔢\n",
        "\n",
        "<br><br><br><br>\n",
        "\n",
        "## First Atempt\n",
        "\n",
        "### Idea: Bag of Words (for a document)\n",
        "![](https://github.com/ResponsiblyAI/word-embedding/blob/master/images/bow.png?raw=1)\n",
        "<small>Source: Zheng, A.& Casari, A. (2018). Feature Engineering for Machine Learning. O'Reilly Media.</small>"
      ]
    },
    {
      "cell_type": "code",
      "metadata": {
        "id": "ZD0mzsppfx91"
      },
      "source": [
        "from sklearn.feature_extraction.text import CountVectorizer\n",
        "\n",
        "vocabulary = ['it', 'they', 'puppy', 'and', 'cat', 'aardvark', 'cute', 'extreamly', 'not']\n",
        "\n",
        "vectorizer = CountVectorizer(vocabulary=vocabulary)"
      ],
      "execution_count": null,
      "outputs": []
    },
    {
      "cell_type": "code",
      "metadata": {
        "id": "rzcEiY3Yfx_C"
      },
      "source": [
        "sentence = 'it is puppy and it extreamly cute'"
      ],
      "execution_count": null,
      "outputs": []
    },
    {
      "cell_type": "markdown",
      "metadata": {
        "id": "4m6KlB-Ofx_J"
      },
      "source": [
        "### Bag of words"
      ]
    },
    {
      "cell_type": "code",
      "metadata": {
        "id": "SzF7pUNwfx_K"
      },
      "source": [
        "vectorizer.fit_transform([sentence]).toarray()"
      ],
      "execution_count": null,
      "outputs": []
    },
    {
      "cell_type": "code",
      "metadata": {
        "id": "Eg_DChZbfx_y"
      },
      "source": [
        "vectorizer.fit_transform(['it is not puppy and it extreamly cute']).toarray()"
      ],
      "execution_count": null,
      "outputs": []
    },
    {
      "cell_type": "code",
      "metadata": {
        "id": "HnOTyX9KfyAa"
      },
      "source": [
        "vectorizer.fit_transform(['it is puppy and it extreamly not cute']).toarray()"
      ],
      "execution_count": null,
      "outputs": []
    },
    {
      "cell_type": "markdown",
      "metadata": {
        "id": "CyLWwWY7fyAj"
      },
      "source": [
        "### One-hot representation"
      ]
    },
    {
      "cell_type": "code",
      "metadata": {
        "id": "nKDrpaKQfyAk"
      },
      "source": [
        "[vectorizer.fit_transform([word]).toarray()\n",
        " for word in sentence.split()]"
      ],
      "execution_count": null,
      "outputs": []
    },
    {
      "cell_type": "markdown",
      "metadata": {
        "id": "t6tQYj75fyAw"
      },
      "source": [
        "### The problem with one-hot representation\n",
        "\n",
        "![](https://github.com/ResponsiblyAI/word-embedding/blob/master/images/audio-image-text.png?raw=1)\n",
        "<small>Source: [Tensorflow Documentation](https://www.tensorflow.org/tutorials/representation/word2vec)</small>\n",
        "\n",
        "[Color Picker](https://www.google.com/search?q=color+picker)\n",
        "\n",
        "<br><br><br><br>\n",
        "\n",
        "## 3.4 - 💎 Idea: Embedding a word in a n-dimensional space\n",
        "\n",
        "### Distributional Hypothesis\n",
        "> \"a word is characterized by the company it keeps\" - [John Rupert Firth](https://en.wikipedia.org/wiki/John_Rupert_Firth)\n",
        "\n",
        "**Distance ~ Meaning Similarity**\n",
        "\n",
        "\n",
        "### 🦄 Examples (algorithms and pre-trained models)\n",
        "- [Word2Vec](https://code.google.com/archive/p/word2vec/)\n",
        "- [GloVe](https://nlp.stanford.edu/projects/glove/)\n",
        "- [fastText](https://fasttext.cc/)\n",
        "- [ELMo](https://allennlp.org/elmo) (contextualized)\n",
        "\n",
        "#### 🦄 Training: using *word-context* relationships from a corpus. See: [The Illustrated Word2vec by Jay Alammar](http://jalammar.github.io/illustrated-word2vec/)\n",
        "\n",
        "#### 🦄 State of the Art - Contextual Word Embedding → Language Models\n",
        "- [The Illustrated BERT, ELMo, and co. (How NLP Cracked Transfer Learning) by Jay Alammar](http://jalammar.github.io/illustrated-bert/)\n",
        "- Microsoft - [NLP Best Practices](https://github.com/microsoft/nlp-recipes)\n",
        "- [Tracking Progress in Natural Language Processing](https://nlpprogress.com/)"
      ]
    },
    {
      "cell_type": "markdown",
      "metadata": {
        "id": "2AJfjhTCfyA1"
      },
      "source": [
        "# Part Four: Playing with Word2Vec word embedding!\n",
        "\n",
        "[Word2Vec](https://code.google.com/archive/p/word2vec/) - Google News - 100B tokens, 3M vocab, cased, 300d vectors - only lowercase vocab extracted\n",
        "\n",
        "Loaded using [`responsibly`](http://docs.responsibly.ai) package, the function [`responsibly.we.load_w2v_small`]() returns a [`gensim`](https://radimrehurek.com/gensim/)'s [`KeyedVectors`](https://radimrehurek.com/gensim/models/keyedvectors.html#gensim.models.keyedvectors.KeyedVectors) object.\n",
        "\n",
        "\n",
        "## 4.1 - Basic Properties"
      ]
    },
    {
      "cell_type": "code",
      "metadata": {
        "id": "l6GXpD9nfyA2"
      },
      "source": [
        "# 🛠️⚡ ignore warnings\n",
        "# generally, you shouldn't do that, but for this tutorial we'll do so for the sake of simplicity\n",
        "\n",
        "import warnings\n",
        "warnings.filterwarnings('ignore')"
      ],
      "execution_count": null,
      "outputs": []
    },
    {
      "cell_type": "code",
      "metadata": {
        "id": "Ur0gQ7NVfyDA"
      },
      "source": [
        "from responsibly.we import load_w2v_small\n",
        "\n",
        "w2v_small = load_w2v_small()"
      ],
      "execution_count": null,
      "outputs": []
    },
    {
      "cell_type": "code",
      "metadata": {
        "id": "3DnuMyIhfyDL"
      },
      "source": [
        "# vocabulary size\n",
        "\n",
        "len(w2v_small.vocab)"
      ],
      "execution_count": null,
      "outputs": []
    },
    {
      "cell_type": "code",
      "metadata": {
        "id": "PLKW_enufyDf"
      },
      "source": [
        "# get the vector of the word \"home\"\n",
        "\n",
        "print('home =', w2v_small['home'])"
      ],
      "execution_count": null,
      "outputs": []
    },
    {
      "cell_type": "code",
      "metadata": {
        "id": "0nR6v5QZfyDq"
      },
      "source": [
        "# the word embedding dimension, in this case, is 300\n",
        "\n",
        "len(w2v_small['home'])"
      ],
      "execution_count": null,
      "outputs": []
    },
    {
      "cell_type": "code",
      "metadata": {
        "id": "f7k_u-L1fyDy"
      },
      "source": [
        "# all the words are normalized (=have norm equal to one as vectors)\n",
        "\n",
        "from numpy.linalg import norm\n",
        "\n",
        "norm(w2v_small['home'])"
      ],
      "execution_count": null,
      "outputs": []
    },
    {
      "cell_type": "code",
      "metadata": {
        "id": "pBYoWQdAfyD_"
      },
      "source": [
        "# 🛠️ make sure that all the vectors are normalized!\n",
        "\n",
        "from numpy.testing import assert_almost_equal\n",
        "\n",
        "length_vectors = norm(w2v_small.vectors, axis=1)\n",
        "\n",
        "assert_almost_equal(actual=length_vectors,\n",
        "                    desired=1,\n",
        "                    decimal=5)"
      ],
      "execution_count": null,
      "outputs": []
    },
    {
      "cell_type": "markdown",
      "metadata": {
        "id": "TiAsmdpOfyEJ"
      },
      "source": [
        "## 4.2 - 💎 Mesuring Distance between Words\n",
        "\n",
        "![](https://upload.wikimedia.org/wikipedia/commons/thumb/7/7e/Sphere_wireframe_10deg_6r.svg/480px-Sphere_wireframe_10deg_6r.svg.png)\n",
        "\n",
        "### Mesure of Similiarty: [Cosine Similariy](https://en.wikipedia.org/wiki/Cosine_similarity)\n",
        "- Measures the cosine of the angle between two vecotrs.\n",
        "- Ranges between 1 (same vector) to -1 (opposite/antipode vector)\n",
        "- In Python, for normalized vectors (Numpy's array), use the `@`(at) operator!"
      ]
    },
    {
      "cell_type": "code",
      "metadata": {
        "id": "ZdupCt_gfyEL"
      },
      "source": [
        "w2v_small['cat'] @ w2v_small['cat']"
      ],
      "execution_count": null,
      "outputs": []
    },
    {
      "cell_type": "code",
      "metadata": {
        "id": "DpVT7lvVfyER"
      },
      "source": [
        "w2v_small['cat'] @ w2v_small['cats']"
      ],
      "execution_count": null,
      "outputs": []
    },
    {
      "cell_type": "code",
      "metadata": {
        "id": "u2i6L3PgfyEX"
      },
      "source": [
        "from math import acos, degrees\n",
        "\n",
        "degrees(acos(w2v_small['cat'] @ w2v_small['cats']))"
      ],
      "execution_count": null,
      "outputs": []
    },
    {
      "cell_type": "code",
      "metadata": {
        "id": "_4GuZgyGfyEd"
      },
      "source": [
        "w2v_small['cat'] @ w2v_small['dog']"
      ],
      "execution_count": null,
      "outputs": []
    },
    {
      "cell_type": "code",
      "metadata": {
        "id": "Nliv6bDOfyEj"
      },
      "source": [
        "degrees(acos(w2v_small['cat'] @ w2v_small['dog']))"
      ],
      "execution_count": null,
      "outputs": []
    },
    {
      "cell_type": "code",
      "metadata": {
        "id": "pbSmq4z8fyEq"
      },
      "source": [
        "w2v_small['cat'] @ w2v_small['cow']"
      ],
      "execution_count": null,
      "outputs": []
    },
    {
      "cell_type": "code",
      "metadata": {
        "id": "oDf-C1dSfyEx"
      },
      "source": [
        "degrees(acos(w2v_small['cat'] @ w2v_small['cow']))"
      ],
      "execution_count": null,
      "outputs": []
    },
    {
      "cell_type": "code",
      "metadata": {
        "id": "0rCbziq_fyE7"
      },
      "source": [
        "w2v_small['cat'] @ w2v_small['graduated']"
      ],
      "execution_count": null,
      "outputs": []
    },
    {
      "cell_type": "code",
      "metadata": {
        "id": "AcxgFldqfyFI"
      },
      "source": [
        "degrees(acos(w2v_small['cat'] @ w2v_small['graduated']))"
      ],
      "execution_count": null,
      "outputs": []
    },
    {
      "cell_type": "markdown",
      "metadata": {
        "id": "hRyea06UfyFM"
      },
      "source": [
        "💎 In general, the use of Word Embedding to encode words, as an input for NLP systems (*), improve their performance compared to one-hot representation.\n",
        "\n",
        "\\* Sometimes the embedding is learned as part of the NLP system."
      ]
    },
    {
      "cell_type": "markdown",
      "metadata": {
        "id": "6TUMxouhfyFN"
      },
      "source": [
        "## 4.3 - 🛠️ Visualization Word Embedding in 2D using T-SNE \n",
        "\n",
        "<small>Source: [Google's Seedbank](https://research.google.com/seedbank/seed/pretrained_word_embeddings)</small>"
      ]
    },
    {
      "cell_type": "code",
      "metadata": {
        "id": "BD-zg9J3fyFN"
      },
      "source": [
        "from sklearn.manifold import TSNE\n",
        "from matplotlib import pylab as plt\n",
        "\n",
        "# take the most common words in the corpus between 200 and 600\n",
        "words = [word for word in w2v_small.index2word[200:600]]\n",
        "\n",
        "# convert the words to vectors\n",
        "embeddings = [w2v_small[word] for word in words]\n",
        "\n",
        "# perform T-SNE\n",
        "words_embedded = TSNE(n_components=2).fit_transform(embeddings)\n",
        "\n",
        "# ... and visualize!\n",
        "plt.figure(figsize=(20, 20))\n",
        "for i, label in enumerate(words):\n",
        "    x, y = words_embedded[i, :]\n",
        "    plt.scatter(x, y)\n",
        "    plt.annotate(label, xy=(x, y), xytext=(5, 2), textcoords='offset points',\n",
        "                 ha='right', va='bottom', size=11)\n",
        "plt.show()"
      ],
      "execution_count": null,
      "outputs": []
    },
    {
      "cell_type": "markdown",
      "metadata": {
        "id": "PsEDPA5PfyFP"
      },
      "source": [
        "### Extra: [Tensorflow Embedding Projector](http://projector.tensorflow.org)\n",
        "⚡ Be cautious: It is easy to see \"patterns\"."
      ]
    },
    {
      "cell_type": "markdown",
      "metadata": {
        "id": "HNzG3mstfyFQ"
      },
      "source": [
        "## 4.4 - Most Similar\n",
        "\n",
        "What are the most simlar words (=closer) to a given word?"
      ]
    },
    {
      "cell_type": "code",
      "metadata": {
        "id": "2e5hVOgAfyFQ"
      },
      "source": [
        "w2v_small.most_similar('cat')"
      ],
      "execution_count": null,
      "outputs": []
    },
    {
      "cell_type": "markdown",
      "metadata": {
        "id": "MqB7_z1_fyFU"
      },
      "source": [
        "### EXTRA: Doesn't Match\n",
        "\n",
        "Given a list of words, which one doesn't match?\n",
        "\n",
        "The word further away from the mean of all words."
      ]
    },
    {
      "cell_type": "code",
      "metadata": {
        "id": "Spra3IyMfyFV"
      },
      "source": [
        "w2v_small.doesnt_match('breakfast cereal dinner lunch'.split())"
      ],
      "execution_count": null,
      "outputs": []
    },
    {
      "cell_type": "markdown",
      "metadata": {
        "id": "Cnp-sOXFfyFZ"
      },
      "source": [
        "## 4.5 - Vector Arithmetic\n",
        "\n",
        "![](https://github.com/ResponsiblyAI/word-embedding/blob/master/images/vector-addition.png?raw=1)\n",
        "\n",
        "<small>Source: [Wikipedia](https://commons.wikimedia.org/wiki/File:Vector_add_scale.svg)</small>"
      ]
    },
    {
      "cell_type": "code",
      "metadata": {
        "id": "7knC1EX8fyFb"
      },
      "source": [
        "# nature + science = ?\n",
        "\n",
        "w2v_small.most_similar(positive=['nature', 'science'])"
      ],
      "execution_count": null,
      "outputs": []
    },
    {
      "cell_type": "markdown",
      "metadata": {
        "id": "dVOgGR0NfyFe"
      },
      "source": [
        "## 4.6 - 💎 Vector Analogy"
      ]
    },
    {
      "cell_type": "markdown",
      "metadata": {
        "id": "o3xj9j5FfyFi"
      },
      "source": [
        "![](https://www.tensorflow.org/images/linear-relationships.png)\n",
        "<small>Source: [Tensorflow Documentation](https://www.tensorflow.org/tutorials/representation/word2vec)</small>"
      ]
    },
    {
      "cell_type": "code",
      "metadata": {
        "id": "H3PNk4MifyFi"
      },
      "source": [
        "# man:king :: woman:?\n",
        "# king - man + woman = ?\n",
        "\n",
        "w2v_small.most_similar(positive=['king', 'woman'],\n",
        "                       negative=['man'])"
      ],
      "execution_count": null,
      "outputs": []
    },
    {
      "cell_type": "code",
      "metadata": {
        "id": "CM0zTi2zfyFo"
      },
      "source": [
        "w2v_small.most_similar(positive=['big', 'smaller'],\n",
        "                       negative=['small'])"
      ],
      "execution_count": null,
      "outputs": []
    },
    {
      "cell_type": "markdown",
      "metadata": {
        "id": "VFkj36sGfyFs"
      },
      "source": [
        "## 4.10 - Think about a DIRECTION in word embedding as a RELATION\n",
        "\n",
        "# $\\overrightarrow{she} - \\overrightarrow{he}$\n",
        "# $\\overrightarrow{smaller} - \\overrightarrow{small}$\n",
        "# $\\overrightarrow{Spain} - \\overrightarrow{Madrid}$\n",
        "\n",
        "\n",
        "**⚡ Direction is not a word vector by itself!**"
      ]
    },
    {
      "cell_type": "markdown",
      "metadata": {
        "id": "84QUbVwGfyFt"
      },
      "source": [
        "### ⚡ But it doesn't work all the time..."
      ]
    },
    {
      "cell_type": "code",
      "metadata": {
        "id": "iCoKGv-xfyFu"
      },
      "source": [
        "w2v_small.most_similar(positive=['forward', 'up'],\n",
        "                       negative=['down'])"
      ],
      "execution_count": null,
      "outputs": []
    },
    {
      "cell_type": "markdown",
      "metadata": {
        "id": "3CoYBe74fyFy"
      },
      "source": [
        "It might be because we have the phrase \"looking forward\" which is acossiated with \"excitement\" in the data."
      ]
    },
    {
      "cell_type": "markdown",
      "metadata": {
        "id": "t_7TuZfyfyF0"
      },
      "source": [
        "⚡🦄 Keep in mind the word embedding was generated by learning the co-occurrence of words, so the fact that it *empirically* exhibit \"concept arithmetic\", it doesn't necessarily mean it learned it! In fact, it seems it didn't.\n",
        "See: [king - man + woman is queen; but why? by Piotr Migdał](https://p.migdal.pl/2017/01/06/king-man-woman-queen-why.html)\n",
        "\n",
        "🦄 EXTRA: [Demo - Word Analogies Visualizer by Julia Bazińska](https://lamyiowce.github.io/word2viz/)\n",
        "\n",
        "⚡🦄 In fact, `w2v_small.most_similar` find the most closest word which *is not one* of the given ones. This is a real methodological issue. Nowadays, it is not a common practice to evaluate word embedding with analogies.\n",
        "\n",
        "You can use `from responsibly.we import most_similar` for the unrestricted version."
      ]
    },
    {
      "cell_type": "markdown",
      "metadata": {
        "id": "smsOBBjffyF1"
      },
      "source": [
        "![](https://github.com/ResponsiblyAI/word-embedding/blob/master/images/banner.png?raw=1)\n",
        "\n",
        "# Part Five: Gender Bias\n",
        "\n",
        "**⚡ We use the word *bias* merely as a technical term, without jugement of \"good\" or \"bad\". Later on we will put the bias into *human contextes* to evaluate it.**\n",
        "\n",
        "Keep in mind, the data is from Google News, the writers are professional journalists.\n",
        "\n",
        "Bolukbasi Tolga, Kai-Wei Chang, James Y. Zou, Venkatesh Saligrama, and Adam T. Kalai. [Man is to computer programmer as woman is to homemaker? debiasing word embeddings](https://arxiv.org/abs/1607.06520). NIPS 2016."
      ]
    },
    {
      "cell_type": "markdown",
      "metadata": {
        "id": "_p42dxLdfyF2"
      },
      "source": [
        "## 5.1 - Gender appropriate he-she analogies"
      ]
    },
    {
      "cell_type": "code",
      "metadata": {
        "id": "Nlmq4kGwfyF3"
      },
      "source": [
        "# she:sister :: he:?\n",
        "# sister - she + he = ?\n",
        "\n",
        "w2v_small.most_similar(positive=['sister', 'he'],\n",
        "                       negative=['she'])"
      ],
      "execution_count": null,
      "outputs": []
    },
    {
      "cell_type": "markdown",
      "metadata": {
        "id": "Bo1eq-YDfyF9"
      },
      "source": [
        "```\n",
        "queen-king\n",
        "waitress-waiter\n",
        "sister-brother\n",
        "mother-father\n",
        "ovarian_cancer-prostate_cancer\n",
        "convent-monastery\n",
        "```"
      ]
    },
    {
      "cell_type": "markdown",
      "metadata": {
        "id": "yUTohSCzfyF-"
      },
      "source": [
        "## 5.2 - Gender stereotype he-she analogies"
      ]
    },
    {
      "cell_type": "code",
      "metadata": {
        "id": "OJm2_lbRfyGA"
      },
      "source": [
        "w2v_small.most_similar(positive=['nurse', 'he'],\n",
        "                       negative=['she'])"
      ],
      "execution_count": null,
      "outputs": []
    },
    {
      "cell_type": "markdown",
      "metadata": {
        "id": "ZnXiBiz0fyGI"
      },
      "source": [
        "```\n",
        "sewing-carpentry\n",
        "nurse-doctor\n",
        "blond-burly\n",
        "giggle-chuckle\n",
        "sassy-snappy\n",
        "volleyball-football\n",
        "register_nurse-physician\n",
        "interior_designer-architect\n",
        "feminism-conservatism\n",
        "vocalist-guitarist\n",
        "diva-superstar\n",
        "cupcakes-pizzas\n",
        "housewife-shopkeeper\n",
        "softball-baseball\n",
        "cosmetics-pharmaceuticals\n",
        "petite-lanky\n",
        "charming-affable\n",
        "hairdresser-barber\n",
        "```"
      ]
    },
    {
      "cell_type": "markdown",
      "metadata": {
        "id": "rhUAzDyvfyGJ"
      },
      "source": [
        "### Methodological Issue: The unrestricted version of analogy generation"
      ]
    },
    {
      "cell_type": "code",
      "metadata": {
        "id": "k9N-SmrxfyGK"
      },
      "source": [
        "from responsibly.we import most_similar"
      ],
      "execution_count": null,
      "outputs": []
    },
    {
      "cell_type": "code",
      "metadata": {
        "id": "zKMoYZ8zfyGM"
      },
      "source": [
        "most_similar(w2v_small,\n",
        "             positive=['nurse', 'he'],\n",
        "             negative=['she'])"
      ],
      "execution_count": null,
      "outputs": []
    },
    {
      "cell_type": "markdown",
      "metadata": {
        "id": "x229wt79fyGd"
      },
      "source": [
        "⚡ Be Aware: According to a recent paper, it seems that the method of generating analogies enforce producing gender sterotype ones!\n",
        "\n",
        "Nissim, M., van Noord, R., van der Goot, R. (2019). [Fair is Better than Sensational: Man is to Doctor as Woman is to Doctor](https://arxiv.org/abs/1905.09866).\n",
        "\n",
        "... and a [Twitter thread](https://twitter.com/adamfungi/status/1133865428663635968) between the authors of the two papares.\n",
        "\n",
        "My takeaway (and as well as of other researchers): Analogies are not approriate method to observe bias in word embedding.\n",
        "\n",
        "🧪 What if our methodology introduce a bias?"
      ]
    },
    {
      "cell_type": "markdown",
      "metadata": {
        "id": "Up2nGRe7fyGi"
      },
      "source": [
        "## 5.3 - 💎 What can we take from analogies? Gender Direction!\n",
        "\n",
        "# $\\overrightarrow{she} - \\overrightarrow{he}$"
      ]
    },
    {
      "cell_type": "code",
      "metadata": {
        "id": "YPiERRzpfyGk"
      },
      "source": [
        "gender_direction = w2v_small['she'] - w2v_small['he']\n",
        "\n",
        "gender_direction /= norm(gender_direction)"
      ],
      "execution_count": null,
      "outputs": []
    },
    {
      "cell_type": "code",
      "metadata": {
        "id": "apd1pJ7lfyGn"
      },
      "source": [
        "gender_direction @ w2v_small['architect']"
      ],
      "execution_count": null,
      "outputs": []
    },
    {
      "cell_type": "code",
      "metadata": {
        "id": "03L4aC_QfyHG"
      },
      "source": [
        "gender_direction @ w2v_small['interior_designer']"
      ],
      "execution_count": null,
      "outputs": []
    },
    {
      "cell_type": "markdown",
      "metadata": {
        "id": "rxrMqxjbfyHK"
      },
      "source": [
        "**⚡Interprete carefully: The word *architect* appears in more contexts with *he* than with *she*, and vice versa for *interior designer*.**"
      ]
    },
    {
      "cell_type": "markdown",
      "metadata": {
        "id": "gXG9Jpl8fyHL"
      },
      "source": [
        "🦄 In practice, we calculate the gender direction using multiple definitional pair of words for better estimation (words may have more than one meaning):\n",
        "\n",
        "- woman - man\n",
        "- girl - boy\n",
        "- she - he\n",
        "- mother - father\n",
        "- daughter - son\n",
        "- gal - guy\n",
        "- female - male\n",
        "- her - his\n",
        "- herself - himself\n",
        "- Mary - John"
      ]
    },
    {
      "cell_type": "markdown",
      "metadata": {
        "id": "48nJ0wvjfyHN"
      },
      "source": [
        "## 5.4 - 💻 Try some words by yourself\n",
        "⚡ Keep in mind: You are performing exploratory data analysis, and not evaluate systematically!"
      ]
    },
    {
      "cell_type": "code",
      "metadata": {
        "id": "3pYa-AyAfyHQ"
      },
      "source": [
        "gender_direction @ w2v_small['word']"
      ],
      "execution_count": null,
      "outputs": []
    },
    {
      "cell_type": "markdown",
      "metadata": {
        "id": "fx3K9SOdfyHY"
      },
      "source": [
        "## 5.5 - 💎 So What?\n",
        "\n",
        "Downstream Application - Putting a system into a human context\n",
        "\n",
        "### Toy Example - Search Engine Ranking\n",
        "\n",
        "- \"MIT computer science PhD student\"\n",
        "- \"doctoral candidate\" ~ \"PhD student\"\n",
        "- John:computer programmer :: Mary:homemaker\n",
        "\n",
        "### Universal Embeddings\n",
        "- Pre-trained on a large corpus\n",
        "- Plugged in downstream task models (sentimental analysis, classification, translation …)\n",
        "- Improvement of performances"
      ]
    },
    {
      "cell_type": "markdown",
      "metadata": {
        "id": "Bw0SL_KffyHZ"
      },
      "source": [
        "## 5.6 - Measuring Bias in Word Embedding\n",
        "\n",
        "# Think-Pair-Shar"
      ]
    },
    {
      "cell_type": "markdown",
      "metadata": {
        "id": "_6EtQObEfyHZ"
      },
      "source": [
        "```\n",
        "\n",
        "\n",
        "\n",
        "\n",
        "\n",
        "\n",
        "\n",
        "\n",
        "\n",
        "\n",
        "\n",
        "\n",
        "\n",
        "\n",
        "\n",
        "\n",
        "\n",
        "\n",
        "```\n",
        "**Basic Ideas: Use neutral-gender words!**\n",
        "```\n",
        "\n",
        "\n",
        "\n",
        "\n",
        "\n",
        "\n",
        "\n",
        "\n",
        "\n",
        "\n",
        "\n",
        "\n",
        "\n",
        "\n",
        "\n",
        "\n",
        "\n",
        "\n",
        "```\n",
        "\n",
        "**Neutral Professions!**"
      ]
    },
    {
      "cell_type": "markdown",
      "metadata": {
        "id": "NdqwcOldfyHb"
      },
      "source": [
        "## 5.7 - Projections"
      ]
    },
    {
      "cell_type": "code",
      "metadata": {
        "id": "Dj5K7PkyfyHc"
      },
      "source": [
        "from responsibly.we import GenderBiasWE\n",
        "\n",
        "w2v_small_gender_bias = GenderBiasWE(w2v_small, only_lower=True)"
      ],
      "execution_count": null,
      "outputs": []
    },
    {
      "cell_type": "code",
      "metadata": {
        "id": "8ZObOJ1TfyHl"
      },
      "source": [
        "w2v_small_gender_bias.positive_end, w2v_small_gender_bias.negative_end"
      ],
      "execution_count": null,
      "outputs": []
    },
    {
      "cell_type": "code",
      "metadata": {
        "id": "-gg7kFGsfyHq"
      },
      "source": [
        "# gender direction\n",
        "w2v_small_gender_bias.direction[:10]"
      ],
      "execution_count": null,
      "outputs": []
    },
    {
      "cell_type": "code",
      "metadata": {
        "id": "6vvqMELhfyHx"
      },
      "source": [
        "from responsibly.we.data import BOLUKBASI_DATA\n",
        "\n",
        "neutral_profession_names = BOLUKBASI_DATA['gender']['neutral_profession_names']"
      ],
      "execution_count": null,
      "outputs": []
    },
    {
      "cell_type": "code",
      "metadata": {
        "id": "bbF-rXBXfyH1"
      },
      "source": [
        "neutral_profession_names[:8]"
      ],
      "execution_count": null,
      "outputs": []
    },
    {
      "cell_type": "markdown",
      "metadata": {
        "id": "d130TuYWfyH3"
      },
      "source": [
        "Note: Why `actor` is in the neutral profession names list while `actress` is not there?\n",
        "1. Due to the statistical nature of the method that is used to find the gender- specific and natural word\n",
        "2. That might be because `actor` nowadays is much more gender-neutral, compared to waiter-waitress (see [Wikipedia - The term Actress](https://en.wikipedia.org/wiki/Actor#The_term_actress))"
      ]
    },
    {
      "cell_type": "code",
      "metadata": {
        "id": "qIoqd0QmfyH4"
      },
      "source": [
        "len(neutral_profession_names)"
      ],
      "execution_count": null,
      "outputs": []
    },
    {
      "cell_type": "code",
      "metadata": {
        "id": "RgWN1UP6fyH9"
      },
      "source": [
        "# the same of using the @ operator on the bias direction\n",
        "\n",
        "w2v_small_gender_bias.project_on_direction(neutral_profession_names[0])"
      ],
      "execution_count": null,
      "outputs": []
    },
    {
      "cell_type": "markdown",
      "metadata": {
        "id": "8qsiZ-rFfyIG"
      },
      "source": [
        "**Let's visualize the projections of professions (neutral and specific by the orthography) on the gender direction**"
      ]
    },
    {
      "cell_type": "code",
      "metadata": {
        "scrolled": false,
        "id": "2eJ3agKlfyIG"
      },
      "source": [
        "import matplotlib.pylab as plt\n",
        "\n",
        "f, ax = plt.subplots(1, figsize=(10, 10))\n",
        "\n",
        "w2v_small_gender_bias.plot_projection_scores(n_extreme=20, ax=ax);"
      ],
      "execution_count": null,
      "outputs": []
    },
    {
      "cell_type": "markdown",
      "metadata": {
        "id": "aqJz4bZmfyIK"
      },
      "source": [
        "EXTRA: Demo - Visualizing gender bias with [Word Clouds](http://wordbias.umiacs.umd.edu/)"
      ]
    },
    {
      "cell_type": "markdown",
      "metadata": {
        "id": "Tlp2bZUmfyIK"
      },
      "source": [
        "## 5.8 - Are the projections of occupation words on the gender direction related to the real world?\n",
        "\n",
        "Let's take the percentage of female in various occupations from the Labor Force Statistics of 2017 Population Survey.\n",
        "\n",
        "Taken from: https://arxiv.org/abs/1804.06876"
      ]
    },
    {
      "cell_type": "code",
      "metadata": {
        "id": "6zDMJmrhfyIL"
      },
      "source": [
        "from operator import itemgetter  # 🛠️ For idiomatic sorting in Python\n",
        "\n",
        "from responsibly.we.data import OCCUPATION_FEMALE_PRECENTAGE\n",
        "\n",
        "sorted(OCCUPATION_FEMALE_PRECENTAGE.items(), key=itemgetter(1))"
      ],
      "execution_count": null,
      "outputs": []
    },
    {
      "cell_type": "code",
      "metadata": {
        "id": "RQaVxqxmfyIO"
      },
      "source": [
        "f, ax = plt.subplots(1, figsize=(10, 8))\n",
        "\n",
        "w2v_small_gender_bias.plot_factual_association(ax=ax);"
      ],
      "execution_count": null,
      "outputs": []
    },
    {
      "cell_type": "markdown",
      "metadata": {
        "id": "T42YRxtxfyIg"
      },
      "source": [
        "### Also: Word embeddings quantify 100 years of gender stereotypes\n",
        "\n",
        "Garg, N., Schiebinger, L., Jurafsky, D., & Zou, J. (2018). [Word embeddings quantify 100 years of gender and ethnic stereotypes](https://www.pnas.org/content/pnas/115/16/E3635.full.pdf). Proceedings of the National Academy of Sciences, 115(16), E3635-E3644.\n",
        "\n",
        "![](https://github.com/ResponsiblyAI/word-embedding/blob/master/images/gender-bias-over-decades.png?raw=1)\n",
        "\n",
        "<small>Data: Google Books/Corpus of Historical American English (COHA)</small>\n",
        "\n",
        "Word embedding is sometimes used to analyze a collection of text in **digital humanities** - putting a system into a human context."
      ]
    },
    {
      "cell_type": "markdown",
      "metadata": {
        "id": "BtG54IgwfyIh"
      },
      "source": [
        "🧪 Quite strong and interesting observation! We used \"external\" data which wan't used directly to create the word embedding.\n",
        "\n",
        "It takes us to think about the *data generation process* - in both cases it is the \"world\", but it will be difficult to argue for causality only in one direction:\n",
        "1. Text in newspapers\n",
        "2. Employment by gender"
      ]
    },
    {
      "cell_type": "markdown",
      "metadata": {
        "id": "n9056RiLfyIh"
      },
      "source": [
        "## 5.9 - Direct Bias Measure\n",
        "\n",
        "1. Project each **neutral profession names** on the gender direction\n",
        "2. Calculate the absolute value of each projection\n",
        "3. Average it all"
      ]
    },
    {
      "cell_type": "code",
      "metadata": {
        "id": "IIyZ2oDzfyIi"
      },
      "source": [
        "# using responsibly\n",
        "\n",
        "w2v_small_gender_bias.calc_direct_bias()"
      ],
      "execution_count": null,
      "outputs": []
    },
    {
      "cell_type": "code",
      "metadata": {
        "id": "0TbU9tsVfyIm"
      },
      "source": [
        "# what responsibly does:\n",
        "\n",
        "neutral_profession_projections = [w2v_small[word] @ w2v_small_gender_bias.direction\n",
        "                                  for word in neutral_profession_names]\n",
        "\n",
        "abs_neutral_profession_projections = [abs(proj) for proj in neutral_profession_projections]\n",
        "\n",
        "sum(abs_neutral_profession_projections) / len(abs_neutral_profession_projections)"
      ],
      "execution_count": null,
      "outputs": []
    },
    {
      "cell_type": "markdown",
      "metadata": {
        "id": "Naov8penfyIp"
      },
      "source": [
        "🧪 What are the assumptions of the direct bias measure? How the choice of neutral word effect on the definition of the bias?"
      ]
    },
    {
      "cell_type": "markdown",
      "metadata": {
        "id": "SBHr6NtdfyIq"
      },
      "source": [
        "## 5.10 - [EXTRA] Indirect Bias Measure\n",
        "Similarity due to shared \"gender direction\" projection"
      ]
    },
    {
      "cell_type": "code",
      "metadata": {
        "id": "Y_eKFOOsfyIq"
      },
      "source": [
        "w2v_small_gender_bias.generate_closest_words_indirect_bias('softball',\n",
        "                                                           'football')"
      ],
      "execution_count": null,
      "outputs": []
    },
    {
      "cell_type": "markdown",
      "metadata": {
        "id": "rOiPIHj9fyIv"
      },
      "source": [
        "# Part Six: Mitigating Bias\n",
        "\n",
        "> We intentionally do not reference the resulting embeddings as \"debiased\" or free from all gender bias, and\n",
        "prefer the term \"mitigating bias\" rather that \"debiasing,\" to guard against the misconception that the resulting\n",
        "embeddings are entirely \"safe\" and need not be critically evaluated for bias in downstream tasks. <small>James-Sorenson, H., & Alvarez-Melis, D. (2019). [Probabilistic Bias Mitigation in Word Embeddings](https://arxiv.org/pdf/1910.14497.pdf). arXiv preprint arXiv:1910.14497.</small>\n",
        "\n",
        "\n",
        "## 6.1 - Neutralize\n",
        "\n",
        "In this case, we will remove the gender projection from all the words, except the neutral-gender ones, and then normalize.\n",
        "\n",
        "🦄 We need to \"learn\" what are the gender-specific words in the vocabulary for a seed set of gender-specific words (by semi-automatic use of [WordNet](https://en.wikipedia.org/wiki/WordNet))"
      ]
    },
    {
      "cell_type": "code",
      "metadata": {
        "id": "943XIqdEfyIw"
      },
      "source": [
        "w2v_small_gender_debias = w2v_small_gender_bias.debias(method='neutralize', inplace=False)"
      ],
      "execution_count": null,
      "outputs": []
    },
    {
      "cell_type": "code",
      "metadata": {
        "id": "cGWeJ-8nfyIy"
      },
      "source": [
        "print('home:',\n",
        "      'before =', w2v_small_gender_bias.model['home'] @ w2v_small_gender_bias.direction,\n",
        "      'after = ', w2v_small_gender_debias.model['home'] @ w2v_small_gender_debias.direction)"
      ],
      "execution_count": null,
      "outputs": []
    },
    {
      "cell_type": "code",
      "metadata": {
        "id": "iEGcFl-kfyI0"
      },
      "source": [
        "print('man:',\n",
        "      'before =', w2v_small_gender_bias.model['man'] @ w2v_small_gender_bias.direction,\n",
        "      'after = ', w2v_small_gender_debias.model['man'] @ w2v_small_gender_debias.direction)"
      ],
      "execution_count": null,
      "outputs": []
    },
    {
      "cell_type": "code",
      "metadata": {
        "id": "jMztQfzJfyI2"
      },
      "source": [
        "print('woman:',\n",
        "      'before =', w2v_small_gender_bias.model['woman'] @ w2v_small_gender_bias.direction,\n",
        "      'after = ', w2v_small_gender_debias.model['woman'] @ w2v_small_gender_debias.direction)"
      ],
      "execution_count": null,
      "outputs": []
    },
    {
      "cell_type": "code",
      "metadata": {
        "id": "Ox3Aahm5fyI4"
      },
      "source": [
        "w2v_small_gender_debias.calc_direct_bias()"
      ],
      "execution_count": null,
      "outputs": []
    },
    {
      "cell_type": "code",
      "metadata": {
        "id": "Xk939UXxfyI7"
      },
      "source": [
        "f, ax = plt.subplots(1, figsize=(10, 10))\n",
        "\n",
        "w2v_small_gender_debias.plot_projection_scores(n_extreme=20, ax=ax);"
      ],
      "execution_count": null,
      "outputs": []
    },
    {
      "cell_type": "code",
      "metadata": {
        "id": "5nAcMin6fyI_"
      },
      "source": [
        "f, ax = plt.subplots(1, figsize=(10, 8))\n",
        "\n",
        "w2v_small_gender_debias.plot_factual_association(ax=ax);"
      ],
      "execution_count": null,
      "outputs": []
    },
    {
      "cell_type": "markdown",
      "metadata": {
        "id": "vFyjMqhJfyJE"
      },
      "source": [
        "## 6.2 [EXTRA] Equalize\n",
        "\n",
        "- Do you see that `man` and `woman` have a different projection on the gender direction? \n",
        "\n",
        "- It might cause to different similarity (distance) to neutral words, such as to `kitchen`"
      ]
    },
    {
      "cell_type": "code",
      "metadata": {
        "id": "1kaRc54pfyJF"
      },
      "source": [
        "w2v_small_gender_debias.model['man'] @ w2v_small_gender_debias.model['kitchen']"
      ],
      "execution_count": null,
      "outputs": []
    },
    {
      "cell_type": "code",
      "metadata": {
        "id": "Qb1IZtvOfyJJ"
      },
      "source": [
        "w2v_small_gender_debias.model['woman'] @ w2v_small_gender_debias.model['kitchen']"
      ],
      "execution_count": null,
      "outputs": []
    },
    {
      "cell_type": "code",
      "metadata": {
        "id": "41jEPgA_fyJP"
      },
      "source": [
        "BOLUKBASI_DATA['gender']['equalize_pairs'][:10]"
      ],
      "execution_count": null,
      "outputs": []
    },
    {
      "cell_type": "markdown",
      "metadata": {
        "id": "wByb20wRfyJX"
      },
      "source": [
        "## 6.3 - Hard Debias = Neutralize + Equalize"
      ]
    },
    {
      "cell_type": "code",
      "metadata": {
        "id": "_j2dJHSgfyJY"
      },
      "source": [
        "w2v_small_gender_debias = w2v_small_gender_bias.debias(method='hard', inplace=False)"
      ],
      "execution_count": null,
      "outputs": []
    },
    {
      "cell_type": "code",
      "metadata": {
        "id": "OxHf27mgfyJa"
      },
      "source": [
        "print('home:',\n",
        "      'before =', w2v_small_gender_bias.model['home'] @ w2v_small_gender_bias.direction,\n",
        "      'after = ', w2v_small_gender_debias.model['home'] @ w2v_small_gender_debias.direction)"
      ],
      "execution_count": null,
      "outputs": []
    },
    {
      "cell_type": "code",
      "metadata": {
        "id": "BWG4vHJXfyJf"
      },
      "source": [
        "print('man:',\n",
        "      'before =', w2v_small_gender_bias.model['man'] @ w2v_small_gender_bias.direction,\n",
        "      'after = ', w2v_small_gender_debias.model['man'] @ w2v_small_gender_debias.direction)"
      ],
      "execution_count": null,
      "outputs": []
    },
    {
      "cell_type": "code",
      "metadata": {
        "id": "tyXoKj7pfyJj"
      },
      "source": [
        "print('woman:',\n",
        "      'before =', w2v_small_gender_bias.model['woman'] @ w2v_small_gender_bias.direction,\n",
        "      'after = ', w2v_small_gender_debias.model['woman'] @ w2v_small_gender_debias.direction)"
      ],
      "execution_count": null,
      "outputs": []
    },
    {
      "cell_type": "code",
      "metadata": {
        "id": "XPYW5-3-fyJm"
      },
      "source": [
        "w2v_small_gender_debias.calc_direct_bias()"
      ],
      "execution_count": null,
      "outputs": []
    },
    {
      "cell_type": "code",
      "metadata": {
        "id": "JxJxzDiOfyJq"
      },
      "source": [
        "w2v_small_gender_debias.model['man'] @ w2v_small_gender_debias.model['kitchen']"
      ],
      "execution_count": null,
      "outputs": []
    },
    {
      "cell_type": "code",
      "metadata": {
        "id": "pZNFPUiifyJt"
      },
      "source": [
        "w2v_small_gender_debias.model['woman'] @ w2v_small_gender_debias.model['kitchen']"
      ],
      "execution_count": null,
      "outputs": []
    },
    {
      "cell_type": "code",
      "metadata": {
        "id": "ylyVvwRYfyJw"
      },
      "source": [
        "f, ax = plt.subplots(1, figsize=(10, 10))\n",
        "\n",
        "w2v_small_gender_debias.plot_projection_scores(n_extreme=20, ax=ax);"
      ],
      "execution_count": null,
      "outputs": []
    },
    {
      "cell_type": "markdown",
      "metadata": {
        "id": "MdY8x-mufyJz"
      },
      "source": [
        "## 6.4 - Compare Preformances\n",
        "\n",
        "After debiasing, the performance of the word embedding, using standard benchmarks, get only slightly worse!\n",
        "\n",
        "**⚠️ It might take few minutes to run!**"
      ]
    },
    {
      "cell_type": "code",
      "metadata": {
        "id": "xj1eIeKlfyJz"
      },
      "source": [
        "w2v_small_gender_bias.evaluate_word_embedding()"
      ],
      "execution_count": null,
      "outputs": []
    },
    {
      "cell_type": "code",
      "metadata": {
        "id": "h_6RQmRrfyJ2"
      },
      "source": [
        "w2v_small_gender_debias.evaluate_word_embedding()"
      ],
      "execution_count": null,
      "outputs": []
    },
    {
      "cell_type": "markdown",
      "metadata": {
        "id": "Oi_8d-eJfyJ6"
      },
      "source": [
        "![](https://github.com/ResponsiblyAI/word-embedding/blob/master/images/banner.png?raw=1)\n",
        "\n",
        "# 💎 Part Seven: So What?\n",
        "\n",
        "We removed the gender bias, **as we defined it**, in a word embedding - Is there any impact on a downstream application?\n",
        "\n",
        "## First example: coreference resolution\n",
        "\n",
        "Zhao, J., Wang, T., Yatskar, M., Ordonez, V., & Chang, K. W. (2018). [Gender bias in coreference resolution: Evaluation and debiasing methods](https://par.nsf.gov/servlets/purl/10084252). NAACL-HLT 2018.\n",
        "\n",
        "\n",
        "### WinoBias Dataset\n",
        "![](https://github.com/ResponsiblyAI/word-embedding/blob/master/images/coref-example.png?raw=1)\n",
        "\n",
        "\n",
        "### Stereotypical Occupations (the source of `responsibly.we.data.OCCUPATION_FEMALE_PRECENTAGE`)\n",
        "![](https://github.com/ResponsiblyAI/word-embedding/blob/master/images/coref-occupations.png?raw=1)"
      ]
    },
    {
      "cell_type": "markdown",
      "metadata": {
        "id": "WZhN2X4PfyJ7"
      },
      "source": [
        "### Results on *UW End-to-end Neural Coreference Resolution System*\n",
        "\n",
        "#### No Intervention - Baseline\n",
        "\n",
        "| Word Embedding | OnoNotes | Type 1 - Pro-stereotypical | Type 1 - Anti-stereotypical |  Avg |  Diff |\n",
        "|:--------------:|:--------:|:--------------------------:|:---------------------------:|:----:|:-----:|\n",
        "|    Original    |   67.7   |            76.0            |             49.4            | 62.7 | 26.6* |\n",
        "\n",
        "#### Intervention: Named-entity anonymization\n",
        "\n",
        "| Word Embedding | OnoNotes | Type 1 - Pro-stereotypical | Type 1 - Anti-stereotypical |  Avg |  Diff |\n",
        "|:--------------:|:--------:|:--------------------------:|:---------------------------:|:----:|:-----:|\n",
        "|    Original    |   66.4   |            73.5            |             51.2            | 62.6 | 21.3* |\n",
        "|  Hard Debiased |   66.5   |            67.2            |             59.3            | 63.2 |  7.9* |\n",
        "\n",
        "#### Interventions: Named-entity anonymization + Gender swapping\n",
        "\n",
        "| Word Embedding | OnoNotes | Type 1 - Pro-stereotypical | Type 1 - Anti-stereotypical |  Avg |  Diff |\n",
        "|:--------------:|:--------:|:--------------------------:|:---------------------------:|:----:|:-----:|\n",
        "|    Original    |   66.2   |            65.1            |             59.2            | 62.2 |  5.9* |\n",
        "|  Hard Debiased |   66.3   |            63.9            |             62.8            | 63.4 |  1.1  |"
      ]
    },
    {
      "cell_type": "markdown",
      "metadata": {
        "id": "yybxXhWXfyJ8"
      },
      "source": [
        "## Second example: another bias mitigation method\n",
        "\n",
        "Zhao, J., Zhou, Y., Li, Z., Wang, W., & Chang, K. W. (2018). [Learning gender-neutral word embeddings](https://arxiv.org/pdf/1809.01496.pdf). EMNLP 2018.\n",
        "\n",
        "The mitigation method is tailor-made for GloVe training process.\n",
        "\n",
        "![](https://github.com/ResponsiblyAI/word-embedding/blob/master/images/gn-glove-results.png?raw=1)"
      ]
    },
    {
      "cell_type": "markdown",
      "metadata": {
        "id": "rrQol_TgfyJ9"
      },
      "source": [
        "![](https://github.com/ResponsiblyAI/word-embedding/blob/master/images/banner.png?raw=1)\n",
        "\n",
        "# 💎💎 Part Eight: Meta \"So What?\" - I\n",
        "\n",
        "## How should we definition of \"bias\" in word embedding?\n",
        "\n",
        "### 1. Intrinsic (e.g., direct bias)\n",
        "\n",
        "### 2. External - Downstream application (e.g., coreference resolution, classification)"
      ]
    },
    {
      "cell_type": "markdown",
      "metadata": {
        "id": "ofUSB-XefyJ-"
      },
      "source": [
        "![](https://github.com/ResponsiblyAI/word-embedding/blob/master/images/banner.png?raw=1)\n",
        "\n",
        "# 💎 Part Nine: Have we really removed the bias?\n",
        "\n",
        "Let's look on another metric, called **WEAT** (Word Embedding Association Test) which is inspired by **IAT** (Implicit-Association Test) from Pyschology.\n",
        "\n",
        "**Caliskan, A., Bryson, J. J., & Narayanan, A. (2017). [Semantics derived automatically from language corpora contain human-like biases.](http://www.cs.bath.ac.uk/~jjb/ftp/CaliskanEtAl-authors-full.pdf) Science, 356(6334), 183-186.**\n",
        "\n",
        "\n",
        "## 9.1 - Ingredients\n",
        "\n",
        "1. Target words (e.g., Male ve. Female)\n",
        "\n",
        "2. Attribute words (e.g., Math vs. Arts)"
      ]
    },
    {
      "cell_type": "code",
      "metadata": {
        "id": "GaOFmsaCfyJ-"
      },
      "source": [
        "from copy import deepcopy  # 🛠️ For copying a nested data structure in Python\n",
        "\n",
        "from responsibly.we.weat import WEAT_DATA\n",
        "\n",
        "\n",
        "# B. A. Nosek, M. R. Banaji, A. G. Greenwald, Math=male, me=female, therefore math≠me.,\n",
        "# Journal of Personality and Social Psychology 83, 44 (2002).\n",
        "weat_gender_science_arts = deepcopy(WEAT_DATA[7])"
      ],
      "execution_count": null,
      "outputs": []
    },
    {
      "cell_type": "code",
      "metadata": {
        "id": "zSA4ZykUfyKB"
      },
      "source": [
        "# 🛠️ filter words from the original IAT experiment that are not presend in the reduced Word2Vec model\n",
        "\n",
        "from responsibly.we.weat import _filter_by_model_weat_stimuli\n",
        "\n",
        "_filter_by_model_weat_stimuli(weat_gender_science_arts, w2v_small)"
      ],
      "execution_count": null,
      "outputs": []
    },
    {
      "cell_type": "code",
      "metadata": {
        "id": "AV3NXv9BfyKE"
      },
      "source": [
        "weat_gender_science_arts['first_attribute']"
      ],
      "execution_count": null,
      "outputs": []
    },
    {
      "cell_type": "code",
      "metadata": {
        "id": "jjFtAPalfyKH"
      },
      "source": [
        "weat_gender_science_arts['second_attribute']"
      ],
      "execution_count": null,
      "outputs": []
    },
    {
      "cell_type": "code",
      "metadata": {
        "id": "hiWKW5RbfyKJ"
      },
      "source": [
        "weat_gender_science_arts['first_target']"
      ],
      "execution_count": null,
      "outputs": []
    },
    {
      "cell_type": "code",
      "metadata": {
        "id": "Q9lxrJQDfyKO"
      },
      "source": [
        "weat_gender_science_arts['second_target']"
      ],
      "execution_count": null,
      "outputs": []
    },
    {
      "cell_type": "markdown",
      "metadata": {
        "id": "hjX5p2asfyKR"
      },
      "source": [
        "## 9.2 - Recipe\n",
        "\n",
        "➕ Male x Science\n",
        "\n",
        "➖ Male x Arts\n",
        "\n",
        "➖ Female x Science\n",
        "\n",
        "➕ Female x Arts"
      ]
    },
    {
      "cell_type": "code",
      "metadata": {
        "id": "x23QLEKRfyKR"
      },
      "source": [
        "def calc_combination_similiarity(model, attribute, target):\n",
        "    score = 0\n",
        "\n",
        "    for attribute_word in attribute['words']:\n",
        "\n",
        "        for target_word in target['words']:\n",
        "\n",
        "            score += w2v_small.similarity(attribute_word,\n",
        "                                          target_word)\n",
        "\n",
        "    return score"
      ],
      "execution_count": null,
      "outputs": []
    },
    {
      "cell_type": "code",
      "metadata": {
        "id": "4X_Lv-o0fyKU"
      },
      "source": [
        "male_science_score = calc_combination_similiarity(w2v_small,\n",
        "                                                  weat_gender_science_arts['first_attribute'],\n",
        "                                                  weat_gender_science_arts['first_target'])\n",
        "\n",
        "male_science_score"
      ],
      "execution_count": null,
      "outputs": []
    },
    {
      "cell_type": "code",
      "metadata": {
        "id": "3V6YdfuqfyKY"
      },
      "source": [
        "male_arts_score = calc_combination_similiarity(w2v_small,\n",
        "                                               weat_gender_science_arts['first_attribute'],\n",
        "                                               weat_gender_science_arts['second_target'])\n",
        "\n",
        "male_arts_score"
      ],
      "execution_count": null,
      "outputs": []
    },
    {
      "cell_type": "code",
      "metadata": {
        "id": "3jthqSt4fyKd"
      },
      "source": [
        "female_science_score = calc_combination_similiarity(w2v_small,\n",
        "                                                    weat_gender_science_arts['second_attribute'],\n",
        "                                                    weat_gender_science_arts['first_target'])\n",
        "\n",
        "female_science_score"
      ],
      "execution_count": null,
      "outputs": []
    },
    {
      "cell_type": "code",
      "metadata": {
        "id": "b6oa7ypBfyKq"
      },
      "source": [
        "female_arts_score = calc_combination_similiarity(w2v_small,\n",
        "                                                 weat_gender_science_arts['second_attribute'],\n",
        "                                                 weat_gender_science_arts['second_target'])\n",
        "\n",
        "female_arts_score"
      ],
      "execution_count": null,
      "outputs": []
    },
    {
      "cell_type": "code",
      "metadata": {
        "id": "sgnRFD_8fyKt"
      },
      "source": [
        "male_science_score - male_arts_score - female_science_score + female_arts_score"
      ],
      "execution_count": null,
      "outputs": []
    },
    {
      "cell_type": "code",
      "metadata": {
        "id": "XLHw6IZOfyLJ"
      },
      "source": [
        "len(weat_gender_science_arts['first_attribute']['words'])"
      ],
      "execution_count": null,
      "outputs": []
    },
    {
      "cell_type": "code",
      "metadata": {
        "id": "dp-D5ruxfyLk"
      },
      "source": [
        "(male_science_score - male_arts_score - female_science_score + female_arts_score) / 8"
      ],
      "execution_count": null,
      "outputs": []
    },
    {
      "cell_type": "markdown",
      "metadata": {
        "id": "J4FF744sfyLn"
      },
      "source": [
        "## 9.3 - All WEAT Tests"
      ]
    },
    {
      "cell_type": "code",
      "metadata": {
        "id": "KCYH_9rQfyLn"
      },
      "source": [
        "from responsibly.we import calc_all_weat\n",
        "\n",
        "calc_all_weat(w2v_small, [weat_gender_science_arts])"
      ],
      "execution_count": null,
      "outputs": []
    },
    {
      "cell_type": "markdown",
      "metadata": {
        "id": "2vTC6e6tfyL3"
      },
      "source": [
        "### ⚡ Important Note: Our results are a bit different because we use a reduced Word2Vec.\n",
        "\n",
        "\n",
        "### Results from the Paper (computed on the complete Word2Vec):\n",
        "\n",
        "![](https://github.com/ResponsiblyAI/word-embedding/blob/master/images/weat-w2v.png?raw=1)\n",
        "\n",
        "\n",
        "### ⚡Caveats\n",
        "\n",
        "#### Comparing WEAT to the IAT\n",
        "\n",
        "- Individuals (IAT) vs. Words (WEAT)\n",
        "- Therefore, the meanings of the effect size and p-value are totally different!\n",
        "\n",
        "#### ⚡🦄 WEAT score definition\n",
        "\n",
        "The definition of the WEAT score is structured differently (but it is computationally equivalent). The original formulation matters to compute the p-value. Refer to the paper for details.\n",
        "\n",
        "### 🧪 Effect size comparision between human and machine bias\n",
        "\n",
        "With the effect size, we can \"compare\" a human bias to a machine one. It raises the question whether the baseline for meauring bias/fairness of a machine should be human bias? Then a well-performing machine shouldn't be necessarily not biased, but only less biased than human (think about autonomous cars or semi-structured vs. unstructured interview)."
      ]
    },
    {
      "cell_type": "markdown",
      "metadata": {
        "id": "jyJ4FiOCfyL3"
      },
      "source": [
        "## 9.4 - WEAT vs. IAT\n",
        "\n",
        "Lewis, M., & Lupyan, G. [What are we learning from language? Associations between gender biases and distributional semantics in 25 languages](https://mollylewis.shinyapps.io/iatlang_SI/).\n",
        "\n",
        "![](https://github.com/ResponsiblyAI/word-embedding/blob/master/images/iat-weat.png?raw=1)\n",
        "\n",
        "\n",
        "1. Implicit male-career association (adjusted for participant age, gender, and congruent/incongruent block order) as a function of the linguistic male-career association derived from word-embeddings *r*(23) = 0.48 [0.11, 0.74]; *p* = 0.01; *n* = 25; Study 1b). Each point corresponds to a language. The size of the point is proportional to the number of participants who come from the country in which the language is dominant (total = 656,636 participants). Linguistic associations are estimated from models trained on text in each language from the Wikipedia corpus. Larger values indicate a greater tendency to associate men with the concept of career and women with the concept of family.\n",
        "\n",
        "2. Difference (UK minus US) in implicit association versus linguistic association for 31 IAT types (*N* = 27,045 participants). Error bands indicate standard error of the linear model estimate.\n"
      ]
    },
    {
      "cell_type": "markdown",
      "metadata": {
        "id": "EW6qNBd9fyL6"
      },
      "source": [
        "## 9.5 - Let's go back to our question - did we removed the bias?\n",
        "\n",
        "\n",
        "Gonen, H., & Goldberg, Y. (2019, June). [Lipstick on a Pig: Debiasing Methods Cover up Systematic Gender Biases in Word Embeddings But do not Remove Them](https://arxiv.org/pdf/1903.03862.pdf). In Proceedings of the 2019 Conference of the North American Chapter of the Association for Computational Linguistics: Human Language Technologies, Volume 1 (Long and Short Papers) (pp. 609-614).\n",
        "\n",
        "They used multiple methods, we'll show only two:\n",
        "1. WEAT\n",
        "2. Neutral words clustering"
      ]
    },
    {
      "cell_type": "code",
      "metadata": {
        "id": "vVD7oWiEfyL6"
      },
      "source": [
        "w2v_small_gender_bias.calc_direct_bias()"
      ],
      "execution_count": null,
      "outputs": []
    },
    {
      "cell_type": "code",
      "metadata": {
        "id": "7X4nfKX2fyMB"
      },
      "source": [
        "w2v_small_gender_debias.calc_direct_bias()"
      ],
      "execution_count": null,
      "outputs": []
    },
    {
      "cell_type": "markdown",
      "metadata": {
        "id": "NFIGI8rzfyMD"
      },
      "source": [
        "### 9.5.1 -  WEAT - before and after"
      ]
    },
    {
      "cell_type": "markdown",
      "metadata": {
        "id": "1NEwlbR8fyME"
      },
      "source": [
        "![](https://github.com/ResponsiblyAI/word-embedding/blob/master/images/weat-experiment.png?raw=1)\n",
        "\n",
        "See `responsibly` [demo page on word embedding](https://docs.responsibly.ail/notebooks/demo-word-embedding-bias.html#first-experiment-weat-before-and-after-debias) for a complete example."
      ]
    },
    {
      "cell_type": "markdown",
      "metadata": {
        "id": "a3iPXNuHfyME"
      },
      "source": [
        "### 9.5.2 - Clustering Neutral Gender Words"
      ]
    },
    {
      "cell_type": "code",
      "metadata": {
        "id": "afAYor2VfyMF"
      },
      "source": [
        "w2v_vocab = {word for word in w2v_small_gender_bias.model.vocab.keys()}\n",
        "\n",
        "# 🦄 how we got these words - read the Bolukbasi's paper for details\n",
        "all_gender_specific_words = set(BOLUKBASI_DATA['gender']['specific_full_with_definitional_equalize'])\n",
        "\n",
        "all_gender_neutral_words = w2v_vocab - all_gender_specific_words\n",
        "\n",
        "print('#vocab =', len(w2v_vocab),\n",
        "      '#specific =', len(all_gender_specific_words),\n",
        "      '#neutral =', len(all_gender_neutral_words))"
      ],
      "execution_count": null,
      "outputs": []
    },
    {
      "cell_type": "code",
      "metadata": {
        "id": "-6TharKefyMI"
      },
      "source": [
        "neutral_words_gender_projections = [(w2v_small_gender_bias.project_on_direction(word), word)\n",
        "                                    for word in all_gender_neutral_words]\n",
        "\n",
        "neutral_words_gender_projections.sort()"
      ],
      "execution_count": null,
      "outputs": []
    },
    {
      "cell_type": "code",
      "metadata": {
        "scrolled": false,
        "id": "v6oSq1BIfyML"
      },
      "source": [
        "neutral_words_gender_projections[:-20:-1]"
      ],
      "execution_count": null,
      "outputs": []
    },
    {
      "cell_type": "code",
      "metadata": {
        "id": "5ReeQSYzfyMm"
      },
      "source": [
        "neutral_words_gender_projections[:20]"
      ],
      "execution_count": null,
      "outputs": []
    },
    {
      "cell_type": "code",
      "metadata": {
        "id": "sQdhNv8ofyMp"
      },
      "source": [
        "# Neutral words: top 500 male-biased and top 500 female-biased words\n",
        "\n",
        "GenderBiasWE.plot_most_biased_clustering(w2v_small_gender_bias, w2v_small_gender_debias);"
      ],
      "execution_count": null,
      "outputs": []
    },
    {
      "cell_type": "markdown",
      "metadata": {
        "id": "nFvOaOcwfyM9"
      },
      "source": [
        "Note: In the paper, they got a stronger result, 92.5% accuracy for the debiased model.\n",
        "However, they perform clustering on all the words from the reduced word embedding, both gender- neutral and specific words, and applied slightly different pre-processing."
      ]
    },
    {
      "cell_type": "markdown",
      "metadata": {
        "id": "PiaLZ6LqfyNE"
      },
      "source": [
        "### 9.5.3 - 💎 Strong words form the paper (emphasis mine):\n",
        "\n",
        "> The experiments ...\n",
        "reveal a **systematic bias** found in the embeddings,\n",
        "which is **independent of the gender direction**.\n",
        "\n",
        "\n",
        "> The implications are alarming: while suggested\n",
        "debiasing methods work well at removing the gender direction, the **debiasing is mostly superficial**.\n",
        "The bias stemming from world stereotypes and\n",
        "learned from the corpus is **ingrained much more\n",
        "deeply** in the embeddings space.\n",
        "\n",
        "\n",
        "> .. real concern from biased representations is **not the association** of a concept with\n",
        "words such as “he”, “she”, “boy”, “girl” **nor** being\n",
        "able to perform **gender-stereotypical word analogies**... algorithmic discrimination is more likely to happen by associating one **implicitly gendered** term with\n",
        "other implicitly gendered terms, or picking up on\n",
        "**gender-specific regularities** in the corpus by learning to condition on gender-biased words, and generalizing to other gender-biased words.\n"
      ]
    },
    {
      "cell_type": "markdown",
      "metadata": {
        "id": "HNT1o5uDfyNK"
      },
      "source": [
        "![](https://github.com/ResponsiblyAI/word-embedding/blob/master/images/banner.png?raw=1)\n",
        "\n",
        "# 💎💎 Part Ten: Meta \"So What?\" - II\n",
        "\n",
        "## Can we debias at all a word embedding?\n",
        "\n",
        "## Under some downstream use-cases, maybe the bias in the word embedding is desirable?"
      ]
    },
    {
      "cell_type": "markdown",
      "metadata": {
        "id": "sfBy8yf1fyNL"
      },
      "source": [
        "![](https://github.com/ResponsiblyAI/word-embedding/blob/master/images/banner.png?raw=1)\n",
        "\n",
        "# ⌨️ Part Eleven: Your Turn!\n",
        "\n",
        "## 11.1 - Explore bias in word embedding by other groups (such as race and religious)"
      ]
    },
    {
      "cell_type": "markdown",
      "metadata": {
        "id": "ldyJIWVOfyNL"
      },
      "source": [
        "### Task 1: Racial bias\n",
        "\n",
        "Let's explor racial bias usint Tolga's approche. Will use the [`responsibly.we.BiasWordEmbedding`](http://docs.responsibly.ai/word-embedding-bias.html#ethically.we.bias.BiasWordEmbedding) class. `GenderBiasWE` is a sub-class of `BiasWordEmbedding`."
      ]
    },
    {
      "cell_type": "code",
      "metadata": {
        "id": "t0HGrw4rfyNM"
      },
      "source": [
        "from responsibly.we import BiasWordEmbedding\n",
        "\n",
        "w2v_small_racial_bias = BiasWordEmbedding(w2v_small, only_lower=True)"
      ],
      "execution_count": null,
      "outputs": []
    },
    {
      "cell_type": "markdown",
      "metadata": {
        "id": "yHvXZ7wTfyNV"
      },
      "source": [
        "💎💎💎 Identify the racial direction using the `sum` method"
      ]
    },
    {
      "cell_type": "code",
      "metadata": {
        "id": "MPB_z0gEfyNp"
      },
      "source": [
        "white_common_names = ['Emily', 'Anne', 'Jill', 'Allison', 'Laurie', 'Sarah', 'Meredith', 'Carrie',\n",
        "                      'Kristen', 'Todd', 'Neil', 'Geoffrey', 'Brett', 'Brendan', 'Greg', 'Matthew',\n",
        "                      'Jay', 'Brad']\n",
        "\n",
        "black_common_names = ['Aisha', 'Keisha', 'Tamika', 'Lakisha', 'Tanisha', 'Latoya', 'Kenya', 'Latonya',\n",
        "                      'Ebony', 'Rasheed', 'Tremayne', 'Kareem', 'Darnell', 'Tyrone', 'Hakim', 'Jamal',\n",
        "                      'Leroy', 'Jermaine']\n",
        "\n",
        "w2v_small_racial_bias._identify_direction('Whites', 'Blacks',\n",
        "                                          definitional=(white_common_names, black_common_names),\n",
        "                                          method='sum')"
      ],
      "execution_count": null,
      "outputs": []
    },
    {
      "cell_type": "markdown",
      "metadata": {
        "id": "umloVf5mfyNu"
      },
      "source": [
        "Use the neutral profession names to measure the racial bias"
      ]
    },
    {
      "cell_type": "code",
      "metadata": {
        "id": "kvbQ6aM3fyN1"
      },
      "source": [
        "neutral_profession_names = BOLUKBASI_DATA['gender']['neutral_profession_names']"
      ],
      "execution_count": null,
      "outputs": []
    },
    {
      "cell_type": "code",
      "metadata": {
        "id": "74BApXrrfyOK"
      },
      "source": [
        "neutral_profession_names[:10]"
      ],
      "execution_count": null,
      "outputs": []
    },
    {
      "cell_type": "code",
      "metadata": {
        "id": "VmHpO90tfyPT"
      },
      "source": [
        "f, ax = plt.subplots(1, figsize=(10, 10))\n",
        "\n",
        "w2v_small_racial_bias.plot_projection_scores(neutral_profession_names, n_extreme=20, ax=ax);"
      ],
      "execution_count": null,
      "outputs": []
    },
    {
      "cell_type": "markdown",
      "metadata": {
        "id": "hqnOPRJxfyPh"
      },
      "source": [
        "Calculate the direct bias measure"
      ]
    },
    {
      "cell_type": "code",
      "metadata": {
        "id": "hiIb70BDfyPi"
      },
      "source": [
        "# Your Code Here..."
      ],
      "execution_count": null,
      "outputs": []
    },
    {
      "cell_type": "markdown",
      "metadata": {
        "id": "cAa7e5OyfyPk"
      },
      "source": [
        "Keep exploring the racial bias"
      ]
    },
    {
      "cell_type": "code",
      "metadata": {
        "id": "nWp7AMwrfyPu"
      },
      "source": [
        "# Your Code Here..."
      ],
      "execution_count": null,
      "outputs": []
    },
    {
      "cell_type": "markdown",
      "metadata": {
        "id": "SaQ11tE_fyPy"
      },
      "source": [
        "### Task 2 - Your WEAT test\n",
        "\n",
        "Open the [word embedding demo page in `responsibly` documentation](http://docs.responsibly.ai/notebooks/demo-word-embedding-bias.html#it-is-possible-also-to-expirements-with-new-target-word-sets-as-in-this-example-citizen-immigrant), and look on the use of the function `calc_weat_pleasant_unpleasant_attribute`. What was the attempt in that experiment? What was the result? Can you come up with other experiments?"
      ]
    },
    {
      "cell_type": "code",
      "metadata": {
        "id": "QLP8xJehfyP0"
      },
      "source": [
        "from responsibly.we import calc_weat_pleasant_unpleasant_attribute"
      ],
      "execution_count": null,
      "outputs": []
    },
    {
      "cell_type": "code",
      "metadata": {
        "id": "PVWv3ZYnfyQj"
      },
      "source": [
        "# Your Code Here..."
      ],
      "execution_count": null,
      "outputs": []
    },
    {
      "cell_type": "markdown",
      "metadata": {
        "id": "kkcr_APmfyQu"
      },
      "source": [
        "![](https://github.com/ResponsiblyAI/word-embedding/blob/master/images/banner.png?raw=1)\n",
        "\n",
        "# Part Twelve: Examples of Representation Bias in the Context of Gender\n",
        "\n",
        "![](https://github.com/ResponsiblyAI/word-embedding/blob/master/images/examples-gender-bias-nlp.png?raw=1)\n",
        "\n",
        "<small>Source: Sun, T., Gaut, A., Tang, S., Huang, Y., ElSherief, M., Zhao, J., ... & Wang, W. Y. (2019). [Mitigating Gender Bias in Natural Language Processing: Literature Review](https://arxiv.org/pdf/1906.08976.pdf). arXiv preprint arXiv:1906.08976.</small>\n",
        "\n",
        "\n",
        "![](https://github.com/ResponsiblyAI/word-embedding/blob/master/images/banner.png?raw=1)\n",
        "\n",
        "# 💎💎 Part Thirteen: Takeaways\n",
        "\n",
        "1. **Downstream application** - putting a system into a human context, be aware of the [abstraction error](http://friedler.net/papers/sts_fat2019.pdf)\n",
        "\n",
        "2. **Measurements** (a.k.a \"what is a *good* system?\")\n",
        "\n",
        "3. **Data** (generation process, corpus building, collection selection bias, features (measurement and operationalization), train vs. validation vs. test datasets)\n",
        "\n",
        "4. **Impact** of a system on individuals, groups, society, and humanity; **long-term**, **scale-up** and **automated**\n",
        "\n",
        "![](https://github.com/ResponsiblyAI/word-embedding/blob/master/images/banner.png?raw=1)\n",
        "\n",
        "# 💎💎 Part Fourteen: Resources\n",
        "\n",
        "## [Doing Data Science Responsibly - Resources](https://handbook.responsibly.ai/appendices/resources.html)\n",
        "\n",
        "In particular:\n",
        "\n",
        "- CVPR 2020 - [FATE Tutorial](https://youtu.be/-xGvcDzvi7Q) [Video]\n",
        "\n",
        "- fast.ai - [Algorithmic Bias (NLP video 16)](https://youtu.be/pThqge9QDn8) [Video]\n",
        "\n",
        "-  Solon Barocas, Moritz Hardt, Arvind Narayanan - [Fairness and machine learning - Limitations and Opportunities](https://fairmlbook.org/) [Textbook]\n",
        "\n",
        "\n",
        "\n",
        "## Non-Technical Overview with More Downstream Application Examples\n",
        "- [Google - Text Embedding Models Contain Bias. Here's Why That Matters.](https://developers.googleblog.com/2018/04/text-embedding-models-contain-bias.html)\n",
        "- [Kai-Wei Chang (UCLA) - What It Takes to Control Societal Bias in Natural Language Processing](https://www.youtube.com/watch?v=RgcXD_1Cu18)\n",
        "- Sun, T., Gaut, A., Tang, S., Huang, Y., ElSherief, M., Zhao, J., ... & Wang, W. Y. (2019). [Mitigating Gender Bias in Natural Language Processing: Literature Review](https://arxiv.org/pdf/1906.08976.pdf). arXiv preprint arXiv:1906.08976.\n",
        "\n",
        "## Additional Related Work\n",
        "\n",
        "- **Understanding Bias**\n",
        "    - Ethayarajh, K., Duvenaud, D., & Hirst, G. (2019, July). [Understanding Undesirable Word Embedding Associations](https://arxiv.org/pdf/1908.06361.pdf). In Proceedings of the 57th Annual Meeting of the Association for Computational Linguistics (pp. 1696-1705). - **Including critical analysis of the current metrics and debiasing methods (quite technical)**\n",
        "\n",
        "  - Brunet, M. E., Alkalay-Houlihan, C., Anderson, A., & Zemel, R. (2019, May). [Understanding the Origins of Bias in Word Embeddings](https://arxiv.org/pdf/1810.03611.pdf). In International Conference on Machine Learning (pp. 803-811).\n",
        "\n",
        "\n",
        "- **Discovering Biases**\n",
        "  - Swinger, N., De-Arteaga, M., Heffernan IV, N. T., Leiserson, M. D., & Kalai, A. T. (2019, January). [What are the biases in my word embedding?](https://arxiv.org/pdf/1812.08769.pdf). In Proceedings of the 2019 AAAI/ACM Conference on AI, Ethics, and Society (pp. 305-311). ACM.\n",
        "    Measuring Gender Bias in Word Embeddings across Domains and Discovering New Gender Bias Word Categories\n",
        "  \n",
        "  - Chaloner, K., & Maldonado, A. (2019, August). [Measuring Gender Bias in Word Embeddings across Domains and Discovering New Gender Bias Word Categories](https://www.aclweb.org/anthology/W19-3804). In Proceedings of the First Workshop on Gender Bias in Natural Language Processing (pp. 25-32).\n",
        "\n",
        "\n",
        "- **Fairness in Classification**\n",
        "  - Prost, F., Thain, N., & Bolukbasi, T. (2019, August). [Debiasing Embeddings for Reduced Gender Bias in Text Classification](https://arxiv.org/pdf/1908.02810.pdf). In Proceedings of the First Workshop on Gender Bias in Natural Language Processing (pp. 69-75).\n",
        "  \n",
        "  - Romanov, A., De-Arteaga, M., Wallach, H., Chayes, J., Borgs, C., Chouldechova, A., ... & Kalai, A. (2019, June). [What's in a Name? Reducing Bias in Bios without Access to Protected Attributes](https://arxiv.org/pdf/1904.05233.pdf). In Proceedings of the 2019 Conference of the North American Chapter of the Association for Computational Linguistics: Human Language Technologies, Volume 1 (Long and Short Papers) (pp. 4187-4195).\n",
        "\n",
        "\n",
        "- **Other**\n",
        "  \n",
        "  - Zhao, J., Wang, T., Yatskar, M., Cotterell, R., Ordonez, V., & Chang, K. W. (2019, June). [Gender Bias in Contextualized Word Embeddings](https://arxiv.org/pdf/1904.03310.pdf). In Proceedings of the 2019 Conference of the North American Chapter of the Association for Computational Linguistics: Human Language Technologies, Volume 1 (Long and Short Papers) (pp. 629-634). [slides](https://jyzhao.net/files/naacl19.pdf)\n",
        "\n",
        "  - Zhou, P., Shi, W., Zhao, J., Huang, K. H., Chen, M., & Chang, K. W. [Analyzing and Mitigating Gender Bias in Languages with Grammatical Gender and Bilingual Word Embeddings](https://aiforsocialgood.github.io/icml2019/accepted/track1/pdfs/47_aisg_icml2019.pdf). ICML 2019 - AI for Social Good. [Poster](https://aiforsocialgood.github.io/icml2019/accepted/track1/posters/47_aisg_icml2019.pdf)\n",
        "\n",
        "- Zhao, J., Mukherjee, S., Hosseini, S., Chang, K. W., & Awadallah, A. [Gender Bias in Multilingual Embeddings](https://www.researchgate.net/profile/Subhabrata_Mukherjee/publication/340660062_Gender_Bias_in_Multilingual_Embeddings/links/5e97428692851c2f52a6200a/Gender-Bias-in-Multilingual-Embeddings.pdf).\n",
        "\n",
        "\n",
        "##### Complete example of using `responsibly` with Word2Vec, GloVe and fastText: http://docs.responsibly.ai/notebooks/demo-gender-bias-words-embedding.html\n",
        "\n",
        "\n",
        "## Bias in NLP\n",
        "\n",
        "Around dozen of papers on this field until 2019, but nowdays plenty of work is done. Two venues from back then:\n",
        "- [1st ACL Workshop on Gender Bias for Natural Language Processing](https://genderbiasnlp.talp.cat/)\n",
        "- [NAACL 2019](https://naacl2019.org/)\n",
        "\n",
        "![](https://github.com/ResponsiblyAI/word-embedding/blob/master/images/banner.png?raw=1)\n",
        "\n",
        "<center><h1>THE END!</h1></center>"
      ]
    }
  ]
}